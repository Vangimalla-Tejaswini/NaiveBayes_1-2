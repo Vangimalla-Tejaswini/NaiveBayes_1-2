{
 "cells": [
  {
   "cell_type": "markdown",
   "id": "62d191f4",
   "metadata": {},
   "source": [
    "#### Q1. What is Bayes' theorem?"
   ]
  },
  {
   "cell_type": "markdown",
   "id": "dcc8ecde",
   "metadata": {},
   "source": [
    "#### Bayes Theorem:\n",
    "              Bayes' theorem is a principle in probability theory that describes the probability of an event, based on prior knowledge of conditions that might be related to the event. It's used to update the probability of a hypothesis as more evidence or information becomes available."
   ]
  },
  {
   "cell_type": "markdown",
   "id": "902ee204",
   "metadata": {},
   "source": [
    "#### Q2. What is the formula for Bayes' theorem?\n"
   ]
  },
  {
   "cell_type": "markdown",
   "id": "cd523f02",
   "metadata": {},
   "source": [
    "The formula for Bayes' theorem is:\n",
    "\n",
    "\n",
    "P(A∣B)= P(B∣A)⋅P(A)/P(B)\n",
    "\n",
    "Where:\n",
    "P(A∣B) is the probability of A given B, known as the posterior probability.\n",
    "\n",
    "P(B∣A) is the probability of B given A, known as the likelihood.\n",
    "\n",
    "P(A) is the probability of A, known as the prior probability.\n",
    "\n",
    "P(B) is the probability of B, known as the marginal likelihood."
   ]
  },
  {
   "cell_type": "markdown",
   "id": "0d9ae49e",
   "metadata": {},
   "source": [
    "#### Q3. How is Bayes' theorem used in practice?\n"
   ]
  },
  {
   "cell_type": "markdown",
   "id": "6561cba9",
   "metadata": {},
   "source": [
    "Bayes' theorem is used in various fields such as medicine (to determine the probability of a disease given a test result), finance (to update the likelihood of a financial model based on new market data), machine learning (for classification problems), and more. It allows for the updating of predictions or theories based on new evidence."
   ]
  },
  {
   "cell_type": "markdown",
   "id": "dd0e92f4",
   "metadata": {},
   "source": [
    "#### Q4. What is the relationship between Bayes' theorem and conditional probability?\n"
   ]
  },
  {
   "cell_type": "markdown",
   "id": "d43e8cf1",
   "metadata": {},
   "source": [
    "Bayes' theorem is fundamentally about conditional probability. Conditional probability is the probability of an event occurring given that another event has already occurred. Bayes' theorem uses conditional probabilities to update the likelihood of events based on new evidence, essentially reversing the direction of the conditioning.\n",
    "\n"
   ]
  },
  {
   "cell_type": "markdown",
   "id": "c377f65a",
   "metadata": {},
   "source": [
    "#### Q5. How do you choose which type of Naive Bayes classifier to use for any given problem?\n"
   ]
  },
  {
   "cell_type": "markdown",
   "id": "64b3732e",
   "metadata": {},
   "source": [
    "Gaussian Naive Bayes is used when the features are continuous and assumed to have a normal distribution.\n",
    "Multinomial Naive Bayes is suitable for discrete data and is often used for text classification where the features are the counts or frequencies of words.\n",
    "Bernoulli Naive Bayes is used when features are binary (0s and 1s), representing the presence or absence of a feature."
   ]
  },
  {
   "cell_type": "markdown",
   "id": "4df6cf44",
   "metadata": {},
   "source": [
    "#### Q6. Assignment:\n",
    "#### You have a dataset with two features, X1 and X2, and two possible classes, A and B. You want to use Naive Bayes to classify a new instance with features X1 = 3 and X2 = 4. The following table shows the frequency of each feature value for each class:\n",
    "| Class | X1=1 | X1=2 | X1=3 | X2=1 | X2=2 | X2=3 | X2=4 |\n",
    "|-------|------|------|------|------|------|------|------|\n",
    "| A     | 3    | 3    | 4    | 4    | 3    | 3    | 3    |\n",
    "| B     | 2    | 2    | 1    | 2    | 2    | 2    | 3    |\n",
    "\n",
    "#### Assuming equal prior probabilities for each class, which class would Naive Bayes predict the new instance to belong to?"
   ]
  },
  {
   "cell_type": "markdown",
   "id": "2e42607b",
   "metadata": {},
   "source": [
    "#### To determine the class (A or B) of the new instance with \n",
    "�\n",
    "1\n",
    "=\n",
    "3\n",
    "X1=3 and \n",
    "�\n",
    "2\n",
    "=\n",
    "4\n",
    "X2=4 using Naive Bayes and assuming equal prior probabilities for each class, we follow these steps:\n",
    "\n",
    "Calculate the likelihood of the features given each class.\n",
    "Multiply these likelihoods by the class's prior probability.\n",
    "Normalize the probabilities (this step can be omitted when comparing which class score is higher because the denominator is the same for both classes).\n",
    "Given the equal prior probabilities and looking for the highest score, we focus on the numerator of Bayes' theorem.\n",
    "\n",
    "#### For class A:\n",
    "\n",
    "P(X1=3|A) = 4/10 (since there are 10 instances of X1 in class A and 4 of them are \"3\")\n",
    "\n",
    "P(X2=4|A) = 3/13 (since there are 13 instances of X2 in class A and 3 of them are \"4\")\n",
    "\n",
    "Likelihood for A = P(X1=3|A) * P(X2=4|A) = (4/10) * (3/13)\n",
    "\n",
    "#### For class B:\n",
    "\n",
    "P(X1=3|B) = 1/5 (since there are 5 instances of X1 in class B and 1 of them is \"3\")\n",
    "\n",
    "P(X2=4|B) = 3/9 (since there are 9 instances of X2 in class B and 3 of them are \"4\")\n",
    "\n",
    "Likelihood for B = P(X1=3|B) * P(X2=4|B) = (1/5) * (3/9)\n",
    "\n",
    "Now, let's calculate and compare these likelihoods:\n",
    "\n",
    "For A: \n",
    "(4/10)To determine the class (A or B) of the new instance with X1=3 and X2=4 using Naive Bayes and assuming equal prior probabilities for each class, we follow these steps:\n",
    "\n",
    "Calculate the likelihood of the features given each class.\n",
    "Multiply these likelihoods by the class's prior probability.\n",
    "Normalize the probabilities (this step can be omitted when comparing which class score is higher because the denominator is the same for both classes).\n",
    "Given the equal prior probabilities and looking for the highest score, we focus on the numerator of Bayes' theorem.\n",
    "\n",
    "For class A:\n",
    "\n",
    "P(X1=3|A) = 4/10 (since there are 10 instances of X1 in class A and 4 of them are \"3\")\n",
    "P(X2=4|A) = 3/13 (since there are 13 instances of X2 in class A and 3 of them are \"4\")\n",
    "Likelihood for A = P(X1=3|A) * P(X2=4|A) = (4/10) * (3/13)\n",
    "For class B:\n",
    "\n",
    "P(X1=3|B) = 1/5 (since there are 5 instances of X1 in class B and 1 of them is \"3\")\n",
    "P(X2=4|B) = 3/9 (since there are 9 instances of X2 in class B and 3 of them are \"4\")\n",
    "Likelihood for B = P(X1=3|B) * P(X2=4|B) = (1/5) * (3/9)\n",
    "Now, let's calculate and compare these likelihoods:\n",
    "\n",
    "For A: \n",
    "(4/10)×(3/13)=(6/65)\n",
    "\n",
    "For B: \n",
    "(1/5)×(3/9)=(1/15)\n",
    "\n",
    " since 6/65 > 1/15 .Naive Bayes would predict the new instance to belong to class A,\n"
   ]
  },
  {
   "cell_type": "code",
   "execution_count": null,
   "id": "1e4c92d2",
   "metadata": {},
   "outputs": [],
   "source": []
  }
 ],
 "metadata": {
  "kernelspec": {
   "display_name": "Python 3 (ipykernel)",
   "language": "python",
   "name": "python3"
  },
  "language_info": {
   "codemirror_mode": {
    "name": "ipython",
    "version": 3
   },
   "file_extension": ".py",
   "mimetype": "text/x-python",
   "name": "python",
   "nbconvert_exporter": "python",
   "pygments_lexer": "ipython3",
   "version": "3.11.2"
  }
 },
 "nbformat": 4,
 "nbformat_minor": 5
}
